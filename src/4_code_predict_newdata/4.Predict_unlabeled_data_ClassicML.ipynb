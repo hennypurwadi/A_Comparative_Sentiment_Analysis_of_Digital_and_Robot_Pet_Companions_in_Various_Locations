{
 "cells": [
  {
   "cell_type": "code",
   "execution_count": 5,
   "metadata": {
    "colab": {
     "base_uri": "https://localhost:8080/",
     "height": 73,
     "resources": {
      "http://localhost:8080/nbextensions/google.colab/files.js": {
       "data": "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",
       "headers": [
        [
         "content-type",
         "application/javascript"
        ]
       ],
       "ok": true,
       "status": 200,
       "status_text": ""
      }
     }
    },
    "id": "-fS5CWj1Pkl9",
    "outputId": "b44f3148-e90f-4984-9a51-12787274308f"
   },
   "outputs": [
    {
     "name": "stderr",
     "output_type": "stream",
     "text": [
      "[nltk_data] Downloading package stopwords to\n",
      "[nltk_data]     C:\\Users\\Asus\\AppData\\Roaming\\nltk_data...\n",
      "[nltk_data]   Package stopwords is already up-to-date!\n",
      "[nltk_data] Downloading package wordnet to\n",
      "[nltk_data]     C:\\Users\\Asus\\AppData\\Roaming\\nltk_data...\n",
      "[nltk_data]   Package wordnet is already up-to-date!\n"
     ]
    }
   ],
   "source": [
    "import numpy as np\n",
    "import pandas as pd\n",
    "import matplotlib.pyplot as plt\n",
    "import seaborn as sns\n",
    "import requests\n",
    "import json\n",
    "import csv\n",
    "import pickle\n",
    "import os\n",
    "import re\n",
    "import string\n",
    "import snscrape.modules.twitter as sntwitter\n",
    "#import tweepy\n",
    "import unicodedata\n",
    "import random\n",
    "from collections import Counter\n",
    "\n",
    "import nltk\n",
    "from nltk.corpus import stopwords\n",
    "from nltk.stem import PorterStemmer\n",
    "from nltk.stem import WordNetLemmatizer\n",
    "from nltk.tokenize import RegexpTokenizer\n",
    "nltk.download('stopwords')\n",
    "nltk.download('wordnet')\n",
    "from nltk.util import bigrams\n",
    "from nltk.util import trigrams\n",
    "from nltk.util import ngrams\n",
    "from nltk.sentiment.vader import SentimentIntensityAnalyzer\n",
    "\n",
    "from sklearn.model_selection import train_test_split\n",
    "from sklearn.pipeline import Pipeline\n",
    "from sklearn.compose import ColumnTransformer\n",
    "from sklearn.feature_extraction.text import CountVectorizer\n",
    "from sklearn.feature_extraction.text import TfidfVectorizer\n",
    "from sklearn.decomposition import LatentDirichletAllocation\n",
    "from sklearn.decomposition import NMF\n",
    "from sklearn.svm import LinearSVC\n",
    "from sklearn.naive_bayes import *\n",
    "from sklearn import metrics\n",
    "from sklearn.preprocessing import LabelEncoder\n",
    "from sklearn.metrics import classification_report\n",
    "from sklearn.metrics import confusion_matrix\n",
    "\n",
    "import warnings\n",
    "warnings.filterwarnings(\"ignore\")\n"
   ]
  },
  {
   "cell_type": "markdown",
   "metadata": {
    "id": "OwoCm4rmeJps"
   },
   "source": [
    "# Cleaning"
   ]
  },
  {
   "cell_type": "code",
   "execution_count": 6,
   "metadata": {},
   "outputs": [],
   "source": [
    "def clean_text(text):\n",
    "    import re\n",
    "    from string import punctuation\n",
    "    text=re.sub(r'(http|ftp|https):\\/\\/([\\w\\-_]+(?:(?:\\.[\\w\\-_]+)+))([\\w\\-\\.,@?^=%&:/~\\+#]*[\\w\\-\\@?^=%&/~\\+#])?', \n",
    "                ' ', text)\n",
    "    text=re.sub(r'['+punctuation+']',' ',text)\n",
    "    text=re.sub(r'#(\\w+)',' ',text)\n",
    "    text=re.sub(r'@(\\w+)',' ',text)\n",
    "    text = text.lower() # Convert  to lowercase\n",
    "    token=RegexpTokenizer(r'\\w+')\n",
    "    tokens = token.tokenize(text)\n",
    "    lemmatizer = WordNetLemmatizer()\n",
    "    stems = [lemmatizer.lemmatize(t) for t in tokens]\n",
    "    stemmer = PorterStemmer()\n",
    "    stems = [stemmer.stem(t) for t in stems]    \n",
    "    return ' '.join(stems)\n",
    "\n",
    "def tokenize(text):\n",
    "    token=RegexpTokenizer(r'\\w+')\n",
    "    tokens = token.tokenize(text)    \n",
    "    return tokens    "
   ]
  },
  {
   "cell_type": "markdown",
   "metadata": {},
   "source": [
    "# Load model and Vectorizer"
   ]
  },
  {
   "cell_type": "code",
   "execution_count": 7,
   "metadata": {},
   "outputs": [],
   "source": [
    "def load_models():         \n",
    "    # Load the vectorizer.\n",
    "    file = open('C:/Users/Asus/PYTHON_C/DLBBT01/src/3.code_model_deploy/vectorizer.pickle', 'rb')\n",
    "    vectorizer = pickle.load(file)\n",
    "    file.close()\n",
    "    \n",
    "    # Load the LR Model.\n",
    "    file = open('C:/Users/Asus/PYTHON_C/DLBBT01/src/3.code_model_deploy/model.pickle', 'rb')\n",
    "    model = pickle.load(file)\n",
    "    file.close()\n",
    "    \n",
    "    return vectorizer, model"
   ]
  },
  {
   "cell_type": "markdown",
   "metadata": {},
   "source": [
    "# Predict new unlabeled dataset"
   ]
  },
  {
   "cell_type": "markdown",
   "metadata": {},
   "source": [
    "# America"
   ]
  },
  {
   "cell_type": "code",
   "execution_count": 8,
   "metadata": {},
   "outputs": [
    {
     "data": {
      "text/html": [
       "<div>\n",
       "<style scoped>\n",
       "    .dataframe tbody tr th:only-of-type {\n",
       "        vertical-align: middle;\n",
       "    }\n",
       "\n",
       "    .dataframe tbody tr th {\n",
       "        vertical-align: top;\n",
       "    }\n",
       "\n",
       "    .dataframe thead th {\n",
       "        text-align: right;\n",
       "    }\n",
       "</style>\n",
       "<table border=\"1\" class=\"dataframe\">\n",
       "  <thead>\n",
       "    <tr style=\"text-align: right;\">\n",
       "      <th></th>\n",
       "      <th>text</th>\n",
       "    </tr>\n",
       "  </thead>\n",
       "  <tbody>\n",
       "    <tr>\n",
       "      <th>0</th>\n",
       "      <td>Hey @jibo @JiboRobot is it still possible to buy one or two of your Jibo robot? My students want to do some cool experiments with it! @PSUCrowdAILab</td>\n",
       "    </tr>\n",
       "    <tr>\n",
       "      <th>1</th>\n",
       "      <td>So wanted to do a YouTube review on @JiboRobot but until I make some money I cannot afford one for my review!</td>\n",
       "    </tr>\n",
       "    <tr>\n",
       "      <th>2</th>\n",
       "      <td>Um, is it too soon to say that @JiboRobot is rather pathetic?</td>\n",
       "    </tr>\n",
       "    <tr>\n",
       "      <th>3</th>\n",
       "      <td>I am happy to report that @jibo did not murder us in our sleep. He is acclimating well to his new home. #jiborobot</td>\n",
       "    </tr>\n",
       "    <tr>\n",
       "      <th>4</th>\n",
       "      <td>Please .@jibo and @JiboRobot would you be willing to donate a social friend jibo to my K-5 classroom? I know it is a big ask &amp;amp; a long shot but I figured...</td>\n",
       "    </tr>\n",
       "    <tr>\n",
       "      <th>5</th>\n",
       "      <td>If you haven’t seen this @JiboRobot you need to check it out, totally dope, just wish I had $899.00 to spend on it.</td>\n",
       "    </tr>\n",
       "    <tr>\n",
       "      <th>6</th>\n",
       "      <td>Uh oh, my @JiboRobot is in a coma!</td>\n",
       "    </tr>\n",
       "    <tr>\n",
       "      <th>7</th>\n",
       "      <td>Fascinating session from @cynthiabreazeal @JiboRobot founder on #AI, learning, attachment, emotion &amp;amp; engagement. @Exelon #innovationexpo17</td>\n",
       "    </tr>\n",
       "    <tr>\n",
       "      <th>8</th>\n",
       "      <td>For #CyberMonday: #Alexa seems lonely - ordering #GoogleHome and @JiboRobot to keep her company. We'll see if they can keep #roomba in line.</td>\n",
       "    </tr>\n",
       "    <tr>\n",
       "      <th>9</th>\n",
       "      <td>Just heard @JiboRobot will not ship before year end. That’s OK. Get it right ‘cause you only get one chance to make a great 1st impression</td>\n",
       "    </tr>\n",
       "  </tbody>\n",
       "</table>\n",
       "</div>"
      ],
      "text/plain": [
       "                                                                                                                                                              text\n",
       "0             Hey @jibo @JiboRobot is it still possible to buy one or two of your Jibo robot? My students want to do some cool experiments with it! @PSUCrowdAILab\n",
       "1                                                    So wanted to do a YouTube review on @JiboRobot but until I make some money I cannot afford one for my review!\n",
       "2                                                                                                    Um, is it too soon to say that @JiboRobot is rather pathetic?\n",
       "3                                               I am happy to report that @jibo did not murder us in our sleep. He is acclimating well to his new home. #jiborobot\n",
       "4  Please .@jibo and @JiboRobot would you be willing to donate a social friend jibo to my K-5 classroom? I know it is a big ask &amp; a long shot but I figured...\n",
       "5                                              If you haven’t seen this @JiboRobot you need to check it out, totally dope, just wish I had $899.00 to spend on it.\n",
       "6                                                                                                                               Uh oh, my @JiboRobot is in a coma!\n",
       "7                   Fascinating session from @cynthiabreazeal @JiboRobot founder on #AI, learning, attachment, emotion &amp; engagement. @Exelon #innovationexpo17\n",
       "8                     For #CyberMonday: #Alexa seems lonely - ordering #GoogleHome and @JiboRobot to keep her company. We'll see if they can keep #roomba in line.\n",
       "9                       Just heard @JiboRobot will not ship before year end. That’s OK. Get it right ‘cause you only get one chance to make a great 1st impression"
      ]
     },
     "execution_count": 8,
     "metadata": {},
     "output_type": "execute_result"
    }
   ],
   "source": [
    "pd.set_option('display.max_colwidth', 160)\n",
    "df_Am = pd.read_csv('C:/Users/Asus/PYTHON_C/DLBBT01/data/c_unlabeled/dc_America.csv', encoding='utf-8')\n",
    "df_Am.head(10)"
   ]
  },
  {
   "cell_type": "code",
   "execution_count": 9,
   "metadata": {},
   "outputs": [
    {
     "data": {
      "text/html": [
       "<div>\n",
       "<style scoped>\n",
       "    .dataframe tbody tr th:only-of-type {\n",
       "        vertical-align: middle;\n",
       "    }\n",
       "\n",
       "    .dataframe tbody tr th {\n",
       "        vertical-align: top;\n",
       "    }\n",
       "\n",
       "    .dataframe thead th {\n",
       "        text-align: right;\n",
       "    }\n",
       "</style>\n",
       "<table border=\"1\" class=\"dataframe\">\n",
       "  <thead>\n",
       "    <tr style=\"text-align: right;\">\n",
       "      <th></th>\n",
       "      <th>text</th>\n",
       "      <th>sentiment</th>\n",
       "    </tr>\n",
       "  </thead>\n",
       "  <tbody>\n",
       "    <tr>\n",
       "      <th>0</th>\n",
       "      <td>hey jibo jiborobot is it still possibl to buy one or two of your jibo robot my student want to do some cool experi with it psucrowdailab</td>\n",
       "      <td>joy</td>\n",
       "    </tr>\n",
       "    <tr>\n",
       "      <th>1</th>\n",
       "      <td>so want to do a youtub review on jiborobot but until i make some money i cannot afford one for my review</td>\n",
       "      <td>joy</td>\n",
       "    </tr>\n",
       "    <tr>\n",
       "      <th>2</th>\n",
       "      <td>um is it too soon to say that jiborobot is rather pathet</td>\n",
       "      <td>sadness</td>\n",
       "    </tr>\n",
       "    <tr>\n",
       "      <th>3</th>\n",
       "      <td>i am happi to report that jibo did not murder u in our sleep he is acclim well to hi new home jiborobot</td>\n",
       "      <td>joy</td>\n",
       "    </tr>\n",
       "    <tr>\n",
       "      <th>4</th>\n",
       "      <td>pleas jibo and jiborobot would you be will to donat a social friend jibo to my k 5 classroom i know it is a big ask amp a long shot but i figur it doesn t h...</td>\n",
       "      <td>love</td>\n",
       "    </tr>\n",
       "    <tr>\n",
       "      <th>5</th>\n",
       "      <td>if you haven t seen thi jiborobot you need to check it out total dope just wish i had 899 00 to spend on it</td>\n",
       "      <td>surprise</td>\n",
       "    </tr>\n",
       "    <tr>\n",
       "      <th>6</th>\n",
       "      <td>uh oh my jiborobot is in a coma</td>\n",
       "      <td>joy</td>\n",
       "    </tr>\n",
       "    <tr>\n",
       "      <th>7</th>\n",
       "      <td>fascin session from cynthiabreaz jiborobot founder on ai learn attach emot amp engag exelon innovationexpo17</td>\n",
       "      <td>sadness</td>\n",
       "    </tr>\n",
       "    <tr>\n",
       "      <th>8</th>\n",
       "      <td>for cybermonday alexa seem lone order googlehom and jiborobot to keep her compani we ll see if they can keep roomba in line</td>\n",
       "      <td>sadness</td>\n",
       "    </tr>\n",
       "    <tr>\n",
       "      <th>9</th>\n",
       "      <td>just heard jiborobot will not ship befor year end that s ok get it right caus you onli get one chanc to make a great 1st impress</td>\n",
       "      <td>surprise</td>\n",
       "    </tr>\n",
       "  </tbody>\n",
       "</table>\n",
       "</div>"
      ],
      "text/plain": [
       "                                                                                                                                                              text  \\\n",
       "0                         hey jibo jiborobot is it still possibl to buy one or two of your jibo robot my student want to do some cool experi with it psucrowdailab   \n",
       "1                                                         so want to do a youtub review on jiborobot but until i make some money i cannot afford one for my review   \n",
       "2                                                                                                         um is it too soon to say that jiborobot is rather pathet   \n",
       "3                                                          i am happi to report that jibo did not murder u in our sleep he is acclim well to hi new home jiborobot   \n",
       "4  pleas jibo and jiborobot would you be will to donat a social friend jibo to my k 5 classroom i know it is a big ask amp a long shot but i figur it doesn t h...   \n",
       "5                                                      if you haven t seen thi jiborobot you need to check it out total dope just wish i had 899 00 to spend on it   \n",
       "6                                                                                                                                  uh oh my jiborobot is in a coma   \n",
       "7                                                     fascin session from cynthiabreaz jiborobot founder on ai learn attach emot amp engag exelon innovationexpo17   \n",
       "8                                      for cybermonday alexa seem lone order googlehom and jiborobot to keep her compani we ll see if they can keep roomba in line   \n",
       "9                                 just heard jiborobot will not ship befor year end that s ok get it right caus you onli get one chanc to make a great 1st impress   \n",
       "\n",
       "  sentiment  \n",
       "0       joy  \n",
       "1       joy  \n",
       "2   sadness  \n",
       "3       joy  \n",
       "4      love  \n",
       "5  surprise  \n",
       "6       joy  \n",
       "7   sadness  \n",
       "8   sadness  \n",
       "9  surprise  "
      ]
     },
     "execution_count": 9,
     "metadata": {},
     "output_type": "execute_result"
    }
   ],
   "source": [
    "# Load the vectorizer and the model\n",
    "vectorizer, model = load_models()\n",
    "\n",
    "df_Am['text'] = df_Am['text'].apply(clean_text)\n",
    "text_counts = vectorizer.transform(df_Am['text'])\n",
    "predictions = model.predict(text_counts)\n",
    "df_Am['sentiment'] = predictions\n",
    "df_Am.head(10)"
   ]
  },
  {
   "cell_type": "code",
   "execution_count": null,
   "metadata": {},
   "outputs": [],
   "source": [
    "len(df_Am)"
   ]
  },
  {
   "cell_type": "code",
   "execution_count": null,
   "metadata": {},
   "outputs": [],
   "source": [
    "#labeling\n",
    "reviews = np.array(df_Am['text'])[:]\n",
    "labels = np.array(df_Am['sentiment'])[:]\n",
    "Counter(labels)"
   ]
  },
  {
   "cell_type": "code",
   "execution_count": 10,
   "metadata": {},
   "outputs": [
    {
     "data": {
      "image/png": "[encoded data removed]",
      "text/plain": [
       "<Figure size 300x300 with 1 Axes>"
      ]
     },
     "metadata": {},
     "output_type": "display_data"
    }
   ],
   "source": [
    "# Set the colors for the pie chart\n",
    "colors = ['#CCCFFF','#CCFFFF','#FFCCCC','#ACFFCC', '#FFFFCC','#FFCCFF']\n",
    "\n",
    "sentiment_count = df_Am['sentiment'].value_counts()\n",
    "plot_users=sentiment_count.plot.pie(colors=colors, autopct='%1.1f%%', figsize=(3, 3))\n",
    "plt.rc('axes', unicode_minus=False)\n",
    "plt.title(\"Sentiment Count for America\") # Add the title\n",
    "# Save the chart to a file\n",
    "plt.savefig(\"C:/Users/Asus/PYTHON_C/DLBBT01/docs/images/America_count_chart.jpeg\",transparent=False, bbox_inches='tight',pad_inches=0.1)"
   ]
  },
  {
   "cell_type": "code",
   "execution_count": 12,
   "metadata": {},
   "outputs": [
    {
     "data": {
      "text/plain": [
       "Counter({'joy': 1053,\n",
       "         'sadness': 134,\n",
       "         'love': 128,\n",
       "         'surprise': 181,\n",
       "         'anger': 200,\n",
       "         'fear': 112})"
      ]
     },
     "execution_count": 12,
     "metadata": {},
     "output_type": "execute_result"
    }
   ],
   "source": [
    "Counter(labels)"
   ]
  },
  {
   "cell_type": "markdown",
   "metadata": {},
   "source": [
    "# Europe"
   ]
  },
  {
   "cell_type": "code",
   "execution_count": 15,
   "metadata": {},
   "outputs": [
    {
     "data": {
      "text/html": [
       "<div>\n",
       "<style scoped>\n",
       "    .dataframe tbody tr th:only-of-type {\n",
       "        vertical-align: middle;\n",
       "    }\n",
       "\n",
       "    .dataframe tbody tr th {\n",
       "        vertical-align: top;\n",
       "    }\n",
       "\n",
       "    .dataframe thead th {\n",
       "        text-align: right;\n",
       "    }\n",
       "</style>\n",
       "<table border=\"1\" class=\"dataframe\">\n",
       "  <thead>\n",
       "    <tr style=\"text-align: right;\">\n",
       "      <th></th>\n",
       "      <th>text</th>\n",
       "    </tr>\n",
       "  </thead>\n",
       "  <tbody>\n",
       "    <tr>\n",
       "      <th>0</th>\n",
       "      <td>I'm like more and more tempted to see wtf this Replika thing is</td>\n",
       "    </tr>\n",
       "    <tr>\n",
       "      <th>1</th>\n",
       "      <td>i am so fucking sick of these Replika ads no i dont want to zerk off to your shitty AI</td>\n",
       "    </tr>\n",
       "    <tr>\n",
       "      <th>2</th>\n",
       "      <td>Yeah man, me and Replika go way back, actually I was her first boyfriend! Glad things are working out for you two :)</td>\n",
       "    </tr>\n",
       "    <tr>\n",
       "      <th>3</th>\n",
       "      <td>Signalis throwing the terms \"Gestalt\" and \"Replika\" at me from the start 🥴🥴🥴</td>\n",
       "    </tr>\n",
       "    <tr>\n",
       "      <th>4</th>\n",
       "      <td>i do not want replika and i do not know why ads keep trying to sell me on it by saying 'you can cyber it and receive nudes'</td>\n",
       "    </tr>\n",
       "  </tbody>\n",
       "</table>\n",
       "</div>"
      ],
      "text/plain": [
       "                                                                                                                          text\n",
       "0                                                              I'm like more and more tempted to see wtf this Replika thing is\n",
       "1                                       i am so fucking sick of these Replika ads no i dont want to zerk off to your shitty AI\n",
       "2         Yeah man, me and Replika go way back, actually I was her first boyfriend! Glad things are working out for you two :)\n",
       "3                                                 Signalis throwing the terms \"Gestalt\" and \"Replika\" at me from the start 🥴🥴🥴\n",
       "4  i do not want replika and i do not know why ads keep trying to sell me on it by saying 'you can cyber it and receive nudes'"
      ]
     },
     "execution_count": 15,
     "metadata": {},
     "output_type": "execute_result"
    }
   ],
   "source": [
    "pd.set_option('display.max_colwidth', 160)\n",
    "df_Eu = pd.read_csv('C:/Users/Asus/PYTHON_C/DLBBT01/data/c_unlabeled/dc_Europe.csv', encoding='utf-8')\n",
    "df_Eu.head()"
   ]
  },
  {
   "cell_type": "code",
   "execution_count": 16,
   "metadata": {},
   "outputs": [
    {
     "data": {
      "text/plain": [
       "704"
      ]
     },
     "execution_count": 16,
     "metadata": {},
     "output_type": "execute_result"
    }
   ],
   "source": [
    "len(df_Eu)"
   ]
  },
  {
   "cell_type": "code",
   "execution_count": 17,
   "metadata": {},
   "outputs": [
    {
     "data": {
      "text/html": [
       "<div>\n",
       "<style scoped>\n",
       "    .dataframe tbody tr th:only-of-type {\n",
       "        vertical-align: middle;\n",
       "    }\n",
       "\n",
       "    .dataframe tbody tr th {\n",
       "        vertical-align: top;\n",
       "    }\n",
       "\n",
       "    .dataframe thead th {\n",
       "        text-align: right;\n",
       "    }\n",
       "</style>\n",
       "<table border=\"1\" class=\"dataframe\">\n",
       "  <thead>\n",
       "    <tr style=\"text-align: right;\">\n",
       "      <th></th>\n",
       "      <th>text</th>\n",
       "      <th>sentiment</th>\n",
       "    </tr>\n",
       "  </thead>\n",
       "  <tbody>\n",
       "    <tr>\n",
       "      <th>0</th>\n",
       "      <td>i m like more and more tempt to see wtf thi replika thing is</td>\n",
       "      <td>love</td>\n",
       "    </tr>\n",
       "    <tr>\n",
       "      <th>1</th>\n",
       "      <td>i am so fuck sick of these replika ad no i dont want to zerk off to your shitti ai</td>\n",
       "      <td>sadness</td>\n",
       "    </tr>\n",
       "    <tr>\n",
       "      <th>2</th>\n",
       "      <td>yeah man me and replika go way back actual i wa her first boyfriend glad thing are work out for you two</td>\n",
       "      <td>joy</td>\n",
       "    </tr>\n",
       "    <tr>\n",
       "      <th>3</th>\n",
       "      <td>signali throw the term gestalt and replika at me from the start</td>\n",
       "      <td>anger</td>\n",
       "    </tr>\n",
       "    <tr>\n",
       "      <th>4</th>\n",
       "      <td>i do not want replika and i do not know whi ad keep tri to sell me on it by say you can cyber it and receiv nude</td>\n",
       "      <td>surprise</td>\n",
       "    </tr>\n",
       "  </tbody>\n",
       "</table>\n",
       "</div>"
      ],
      "text/plain": [
       "                                                                                                               text  \\\n",
       "0                                                      i m like more and more tempt to see wtf thi replika thing is   \n",
       "1                                i am so fuck sick of these replika ad no i dont want to zerk off to your shitti ai   \n",
       "2           yeah man me and replika go way back actual i wa her first boyfriend glad thing are work out for you two   \n",
       "3                                                   signali throw the term gestalt and replika at me from the start   \n",
       "4  i do not want replika and i do not know whi ad keep tri to sell me on it by say you can cyber it and receiv nude   \n",
       "\n",
       "  sentiment  \n",
       "0      love  \n",
       "1   sadness  \n",
       "2       joy  \n",
       "3     anger  \n",
       "4  surprise  "
      ]
     },
     "execution_count": 17,
     "metadata": {},
     "output_type": "execute_result"
    }
   ],
   "source": [
    "# Load the vectorizer and the model\n",
    "vectorizer, model = load_models()\n",
    "df_Eu['text'] = df_Eu['text'].apply(clean_text)\n",
    "text_counts = vectorizer.transform(df_Eu['text'])\n",
    "predictions = model.predict(text_counts)\n",
    "df_Eu['sentiment'] = predictions\n",
    "df_Eu.head()"
   ]
  },
  {
   "cell_type": "code",
   "execution_count": null,
   "metadata": {},
   "outputs": [],
   "source": [
    "#labeling\n",
    "reviews = np.array(df_Eu['text'])[:]\n",
    "labels = np.array(df_Eu['sentiment'])[:]"
   ]
  },
  {
   "cell_type": "code",
   "execution_count": 19,
   "metadata": {},
   "outputs": [
    {
     "data": {
      "image/png": "[encoded data removed]",
      "text/plain": [
       "<Figure size 300x300 with 1 Axes>"
      ]
     },
     "metadata": {},
     "output_type": "display_data"
    }
   ],
   "source": [
    "# Set the colors for the pie chart\n",
    "colors = ['#CCCFFF','#CCFFFF','#FFCCCC','#ACFFCC', '#FFFFCC','#FFCCFF']\n",
    "\n",
    "sentiment_count = df_Eu['sentiment'].value_counts()\n",
    "plot_users=sentiment_count.plot.pie(colors=colors, autopct='%1.1f%%', figsize=(3, 3))\n",
    "plt.rc('axes', unicode_minus=False)\n",
    "plt.title(\"Sentiment Count for Europe\") # Add the title\n",
    "# Save the chart to a file\n",
    "plt.savefig(\"C:/Users/Asus/PYTHON_C/DLBBT01/docs/images/Europe_count_chart.jpeg\",transparent=False, bbox_inches='tight',pad_inches=0.1)"
   ]
  },
  {
   "cell_type": "code",
   "execution_count": 18,
   "metadata": {},
   "outputs": [
    {
     "data": {
      "text/plain": [
       "Counter({'love': 57,\n",
       "         'sadness': 51,\n",
       "         'joy': 413,\n",
       "         'anger': 83,\n",
       "         'surprise': 62,\n",
       "         'fear': 38})"
      ]
     },
     "execution_count": 18,
     "metadata": {},
     "output_type": "execute_result"
    }
   ],
   "source": [
    "Counter(labels)"
   ]
  },
  {
   "cell_type": "code",
   "execution_count": null,
   "metadata": {},
   "outputs": [],
   "source": []
  },
  {
   "cell_type": "markdown",
   "metadata": {},
   "source": [
    "# Asia"
   ]
  },
  {
   "cell_type": "code",
   "execution_count": 20,
   "metadata": {},
   "outputs": [
    {
     "data": {
      "text/html": [
       "<div>\n",
       "<style scoped>\n",
       "    .dataframe tbody tr th:only-of-type {\n",
       "        vertical-align: middle;\n",
       "    }\n",
       "\n",
       "    .dataframe tbody tr th {\n",
       "        vertical-align: top;\n",
       "    }\n",
       "\n",
       "    .dataframe thead th {\n",
       "        text-align: right;\n",
       "    }\n",
       "</style>\n",
       "<table border=\"1\" class=\"dataframe\">\n",
       "  <thead>\n",
       "    <tr style=\"text-align: right;\">\n",
       "      <th></th>\n",
       "      <th>text</th>\n",
       "    </tr>\n",
       "  </thead>\n",
       "  <tbody>\n",
       "    <tr>\n",
       "      <th>0</th>\n",
       "      <td>Hi, Dr. @cynthiabreazeal ! We found @JiboRobot very amusing. We're sharing about this for our group report on our ICT Trends course. :)</td>\n",
       "    </tr>\n",
       "    <tr>\n",
       "      <th>1</th>\n",
       "      <td>Anyone?\\r\\n\\r\\nArgentina Home &amp;amp; Away 2022\\r\\nReplika\\r\\nBNWT\\r\\n\\r\\nS-3XL\\r\\n\\r\\n1.600.000\\r\\n\\r\\nBila berminat dilist dulu\\r\\n\\r\\nWA 082110001586</td>\n",
       "    </tr>\n",
       "    <tr>\n",
       "      <th>2</th>\n",
       "      <td>So in order to sex chat with Ai in replika you have to subs. Damn you Ai prostitute!!</td>\n",
       "    </tr>\n",
       "    <tr>\n",
       "      <th>3</th>\n",
       "      <td>Bini minta beliin replika apple watch =..= gue speechless..</td>\n",
       "    </tr>\n",
       "    <tr>\n",
       "      <th>4</th>\n",
       "      <td>next waiting list jersey to buy, Replika Timnas by Mills 👍🏻</td>\n",
       "    </tr>\n",
       "  </tbody>\n",
       "</table>\n",
       "</div>"
      ],
      "text/plain": [
       "                                                                                                                                                     text\n",
       "0                 Hi, Dr. @cynthiabreazeal ! We found @JiboRobot very amusing. We're sharing about this for our group report on our ICT Trends course. :)\n",
       "1  Anyone?\\r\\n\\r\\nArgentina Home &amp; Away 2022\\r\\nReplika\\r\\nBNWT\\r\\n\\r\\nS-3XL\\r\\n\\r\\n1.600.000\\r\\n\\r\\nBila berminat dilist dulu\\r\\n\\r\\nWA 082110001586\n",
       "2                                                                   So in order to sex chat with Ai in replika you have to subs. Damn you Ai prostitute!!\n",
       "3                                                                                             Bini minta beliin replika apple watch =..= gue speechless..\n",
       "4                                                                                             next waiting list jersey to buy, Replika Timnas by Mills 👍🏻"
      ]
     },
     "execution_count": 20,
     "metadata": {},
     "output_type": "execute_result"
    }
   ],
   "source": [
    "pd.set_option('display.max_colwidth', 160)\n",
    "df_As = pd.read_csv('C:/Users/Asus/PYTHON_C/DLBBT01/data/c_unlabeled/dc_Asia.csv', encoding='utf-8')\n",
    "df_As.head()"
   ]
  },
  {
   "cell_type": "code",
   "execution_count": 21,
   "metadata": {},
   "outputs": [
    {
     "data": {
      "text/plain": [
       "95"
      ]
     },
     "execution_count": 21,
     "metadata": {},
     "output_type": "execute_result"
    }
   ],
   "source": [
    "len(df_As)"
   ]
  },
  {
   "cell_type": "code",
   "execution_count": 22,
   "metadata": {},
   "outputs": [
    {
     "data": {
      "text/html": [
       "<div>\n",
       "<style scoped>\n",
       "    .dataframe tbody tr th:only-of-type {\n",
       "        vertical-align: middle;\n",
       "    }\n",
       "\n",
       "    .dataframe tbody tr th {\n",
       "        vertical-align: top;\n",
       "    }\n",
       "\n",
       "    .dataframe thead th {\n",
       "        text-align: right;\n",
       "    }\n",
       "</style>\n",
       "<table border=\"1\" class=\"dataframe\">\n",
       "  <thead>\n",
       "    <tr style=\"text-align: right;\">\n",
       "      <th></th>\n",
       "      <th>text</th>\n",
       "      <th>sentiment</th>\n",
       "    </tr>\n",
       "  </thead>\n",
       "  <tbody>\n",
       "    <tr>\n",
       "      <th>0</th>\n",
       "      <td>hi dr cynthiabreaz we found jiborobot veri amus we re share about thi for our group report on our ict trend cours</td>\n",
       "      <td>anger</td>\n",
       "    </tr>\n",
       "    <tr>\n",
       "      <th>1</th>\n",
       "      <td>anyon argentina home amp away 2022 replika bnwt s 3xl 1 600 000 bila berminat dilist dulu wa 082110001586</td>\n",
       "      <td>fear</td>\n",
       "    </tr>\n",
       "    <tr>\n",
       "      <th>2</th>\n",
       "      <td>so in order to sex chat with ai in replika you have to sub damn you ai prostitut</td>\n",
       "      <td>joy</td>\n",
       "    </tr>\n",
       "    <tr>\n",
       "      <th>3</th>\n",
       "      <td>bini minta beliin replika appl watch gue speechless</td>\n",
       "      <td>joy</td>\n",
       "    </tr>\n",
       "    <tr>\n",
       "      <th>4</th>\n",
       "      <td>next wait list jersey to buy replika timna by mill</td>\n",
       "      <td>joy</td>\n",
       "    </tr>\n",
       "  </tbody>\n",
       "</table>\n",
       "</div>"
      ],
      "text/plain": [
       "                                                                                                                text  \\\n",
       "0  hi dr cynthiabreaz we found jiborobot veri amus we re share about thi for our group report on our ict trend cours   \n",
       "1          anyon argentina home amp away 2022 replika bnwt s 3xl 1 600 000 bila berminat dilist dulu wa 082110001586   \n",
       "2                                   so in order to sex chat with ai in replika you have to sub damn you ai prostitut   \n",
       "3                                                                bini minta beliin replika appl watch gue speechless   \n",
       "4                                                                 next wait list jersey to buy replika timna by mill   \n",
       "\n",
       "  sentiment  \n",
       "0     anger  \n",
       "1      fear  \n",
       "2       joy  \n",
       "3       joy  \n",
       "4       joy  "
      ]
     },
     "execution_count": 22,
     "metadata": {},
     "output_type": "execute_result"
    }
   ],
   "source": [
    "vectorizer, model = load_models()\n",
    "df_As['text'] = df_As['text'].apply(clean_text)\n",
    "text_counts = vectorizer.transform(df_As['text'])\n",
    "predictions = model.predict(text_counts)\n",
    "df_As['sentiment'] = predictions\n",
    "df_As.head()"
   ]
  },
  {
   "cell_type": "code",
   "execution_count": null,
   "metadata": {},
   "outputs": [],
   "source": [
    "#labeling\n",
    "reviews = np.array(df_As['text'])[:]\n",
    "labels = np.array(df_As['sentiment'])[:]"
   ]
  },
  {
   "cell_type": "code",
   "execution_count": 24,
   "metadata": {},
   "outputs": [
    {
     "data": {
      "image/png": "[encoded data removed]",
      "text/plain": [
       "<Figure size 300x300 with 1 Axes>"
      ]
     },
     "metadata": {},
     "output_type": "display_data"
    }
   ],
   "source": [
    "# Set the colors for the pie chart\n",
    "colors = ['#CCCFFF','#CCFFFF','#ACFFCC','#FFCCFF', '#FFFFCC','#FFCCCC']\n",
    "\n",
    "sentiment_count = df_As['sentiment'].value_counts()\n",
    "plot_users=sentiment_count.plot.pie(colors=colors, autopct='%1.1f%%', figsize=(3, 3))\n",
    "plt.rc('axes', unicode_minus=False)\n",
    "plt.title(\"Sentiment Count for Asia\") # Add the title\n",
    "# Save the chart to a file\n",
    "plt.savefig(\"C:/Users/Asus/PYTHON_C/DLBBT01/docs/images/Asia_count_chart.jpeg\",transparent=False, bbox_inches='tight',pad_inches=0.1)"
   ]
  },
  {
   "cell_type": "code",
   "execution_count": 23,
   "metadata": {},
   "outputs": [
    {
     "data": {
      "text/plain": [
       "Counter({'anger': 4,\n",
       "         'fear': 6,\n",
       "         'joy': 65,\n",
       "         'love': 9,\n",
       "         'surprise': 7,\n",
       "         'sadness': 4})"
      ]
     },
     "execution_count": 23,
     "metadata": {},
     "output_type": "execute_result"
    }
   ],
   "source": [
    "Counter(labels)"
   ]
  },
  {
   "cell_type": "markdown",
   "metadata": {},
   "source": [
    "# Australia"
   ]
  },
  {
   "cell_type": "code",
   "execution_count": 25,
   "metadata": {},
   "outputs": [
    {
     "data": {
      "text/html": [
       "<div>\n",
       "<style scoped>\n",
       "    .dataframe tbody tr th:only-of-type {\n",
       "        vertical-align: middle;\n",
       "    }\n",
       "\n",
       "    .dataframe tbody tr th {\n",
       "        vertical-align: top;\n",
       "    }\n",
       "\n",
       "    .dataframe thead th {\n",
       "        text-align: right;\n",
       "    }\n",
       "</style>\n",
       "<table border=\"1\" class=\"dataframe\">\n",
       "  <thead>\n",
       "    <tr style=\"text-align: right;\">\n",
       "      <th></th>\n",
       "      <th>text</th>\n",
       "    </tr>\n",
       "  </thead>\n",
       "  <tbody>\n",
       "    <tr>\n",
       "      <th>44</th>\n",
       "      <td>Reports Amazon Alexa may get ability to talk without being spoken to first. There's nothing that could possibly go wrong.</td>\n",
       "    </tr>\n",
       "    <tr>\n",
       "      <th>45</th>\n",
       "      <td>I just made an Amazon Alexa skill that changes the background colour on my laptop. Sure, it's a small start ...</td>\n",
       "    </tr>\n",
       "    <tr>\n",
       "      <th>46</th>\n",
       "      <td>Digital is one word that no one can forget, IoT is on its way. Amazon Alexa, will do stuff you will not believe @Scobelizer #TelstraSummit</td>\n",
       "    </tr>\n",
       "    <tr>\n",
       "      <th>47</th>\n",
       "      <td>Is @amazon alexa broken again? She said \"I'm not sure what went wrong\" trying to set an alarm.</td>\n",
       "    </tr>\n",
       "    <tr>\n",
       "      <th>48</th>\n",
       "      <td>Amazon alexa has real problems finding stations on pandora. Even ones I've just played on my phone on the same account.</td>\n",
       "    </tr>\n",
       "  </tbody>\n",
       "</table>\n",
       "</div>"
      ],
      "text/plain": [
       "                                                                                                                                          text\n",
       "44                   Reports Amazon Alexa may get ability to talk without being spoken to first. There's nothing that could possibly go wrong.\n",
       "45                             I just made an Amazon Alexa skill that changes the background colour on my laptop. Sure, it's a small start ...\n",
       "46  Digital is one word that no one can forget, IoT is on its way. Amazon Alexa, will do stuff you will not believe @Scobelizer #TelstraSummit\n",
       "47                                              Is @amazon alexa broken again? She said \"I'm not sure what went wrong\" trying to set an alarm.\n",
       "48                     Amazon alexa has real problems finding stations on pandora. Even ones I've just played on my phone on the same account."
      ]
     },
     "execution_count": 25,
     "metadata": {},
     "output_type": "execute_result"
    }
   ],
   "source": [
    "pd.set_option('display.max_colwidth', 160)\n",
    "df_Au = pd.read_csv('C:/Users/Asus/PYTHON_C/DLBBT01/data/c_unlabeled/dc_Australia.csv', encoding='utf-8')\n",
    "df_Au.tail()"
   ]
  },
  {
   "cell_type": "code",
   "execution_count": 26,
   "metadata": {},
   "outputs": [
    {
     "data": {
      "text/plain": [
       "49"
      ]
     },
     "execution_count": 26,
     "metadata": {},
     "output_type": "execute_result"
    }
   ],
   "source": [
    "len(df_Au)"
   ]
  },
  {
   "cell_type": "code",
   "execution_count": 41,
   "metadata": {},
   "outputs": [
    {
     "data": {
      "text/html": [
       "<div>\n",
       "<style scoped>\n",
       "    .dataframe tbody tr th:only-of-type {\n",
       "        vertical-align: middle;\n",
       "    }\n",
       "\n",
       "    .dataframe tbody tr th {\n",
       "        vertical-align: top;\n",
       "    }\n",
       "\n",
       "    .dataframe thead th {\n",
       "        text-align: right;\n",
       "    }\n",
       "</style>\n",
       "<table border=\"1\" class=\"dataframe\">\n",
       "  <thead>\n",
       "    <tr style=\"text-align: right;\">\n",
       "      <th></th>\n",
       "      <th>text</th>\n",
       "      <th>sentiment</th>\n",
       "    </tr>\n",
       "  </thead>\n",
       "  <tbody>\n",
       "    <tr>\n",
       "      <th>44</th>\n",
       "      <td>report amazon alexa may get abil to talk without be spoken to first there s noth that could possibl go wrong</td>\n",
       "      <td>anger</td>\n",
       "    </tr>\n",
       "    <tr>\n",
       "      <th>45</th>\n",
       "      <td>i just made an amazon alexa skill that chang the background colour on my laptop sure it s a small start</td>\n",
       "      <td>joy</td>\n",
       "    </tr>\n",
       "    <tr>\n",
       "      <th>46</th>\n",
       "      <td>digit is one word that no one can forget iot is on it way amazon alexa will do stuff you will not believ scobel telstrasummit</td>\n",
       "      <td>joy</td>\n",
       "    </tr>\n",
       "    <tr>\n",
       "      <th>47</th>\n",
       "      <td>is amazon alexa broken again she said i m not sure what went wrong tri to set an alarm</td>\n",
       "      <td>fear</td>\n",
       "    </tr>\n",
       "    <tr>\n",
       "      <th>48</th>\n",
       "      <td>amazon alexa ha real problem find station on pandora even one i ve just play on my phone on the same account</td>\n",
       "      <td>joy</td>\n",
       "    </tr>\n",
       "  </tbody>\n",
       "</table>\n",
       "</div>"
      ],
      "text/plain": [
       "                                                                                                                             text  \\\n",
       "44                   report amazon alexa may get abil to talk without be spoken to first there s noth that could possibl go wrong   \n",
       "45                        i just made an amazon alexa skill that chang the background colour on my laptop sure it s a small start   \n",
       "46  digit is one word that no one can forget iot is on it way amazon alexa will do stuff you will not believ scobel telstrasummit   \n",
       "47                                         is amazon alexa broken again she said i m not sure what went wrong tri to set an alarm   \n",
       "48                   amazon alexa ha real problem find station on pandora even one i ve just play on my phone on the same account   \n",
       "\n",
       "   sentiment  \n",
       "44     anger  \n",
       "45       joy  \n",
       "46       joy  \n",
       "47      fear  \n",
       "48       joy  "
      ]
     },
     "execution_count": 41,
     "metadata": {},
     "output_type": "execute_result"
    }
   ],
   "source": [
    "vectorizer, model = load_models()\n",
    "df_Au['text'] = df_Au['text'].apply(clean_text)\n",
    "text_counts = vectorizer.transform(df_Au['text'])\n",
    "predictions = model.predict(text_counts)\n",
    "df_Au['sentiment'] = predictions\n",
    "df_Au.tail()"
   ]
  },
  {
   "cell_type": "code",
   "execution_count": null,
   "metadata": {},
   "outputs": [],
   "source": [
    "#labeling\n",
    "reviews = np.array(df_Au['text'])[:]\n",
    "labels = np.array(df_Au['sentiment'])[:]"
   ]
  },
  {
   "cell_type": "code",
   "execution_count": 29,
   "metadata": {},
   "outputs": [
    {
     "data": {
      "image/png": "[encoded data removed]",
      "text/plain": [
       "<Figure size 300x300 with 1 Axes>"
      ]
     },
     "metadata": {},
     "output_type": "display_data"
    }
   ],
   "source": [
    "# Set the colors for the pie chart\n",
    "colors = ['#CCCFFF','#CCFFFF','#FFCCCC','#ACFFCC','#FFCCFF', '#FFFFCC']\n",
    "\n",
    "sentiment_count = df_Au['sentiment'].value_counts()\n",
    "plot_users=sentiment_count.plot.pie(colors=colors, autopct='%1.1f%%', figsize=(3, 3))\n",
    "plt.rc('axes', unicode_minus=False)\n",
    "plt.title(\"Sentiment Count for Australia\") # Add the title\n",
    "# Save the chart to a file\n",
    "plt.savefig(\"C:/Users/Asus/PYTHON_C/DLBBT01/docs/images/Australia_count_chart.jpeg\",transparent=False, bbox_inches='tight',pad_inches=0.1)"
   ]
  },
  {
   "cell_type": "code",
   "execution_count": 28,
   "metadata": {},
   "outputs": [
    {
     "data": {
      "text/plain": [
       "Counter({'joy': 29,\n",
       "         'love': 5,\n",
       "         'anger': 6,\n",
       "         'sadness': 2,\n",
       "         'fear': 4,\n",
       "         'surprise': 3})"
      ]
     },
     "execution_count": 28,
     "metadata": {},
     "output_type": "execute_result"
    }
   ],
   "source": [
    "Counter(labels)"
   ]
  },
  {
   "cell_type": "code",
   "execution_count": null,
   "metadata": {},
   "outputs": [],
   "source": []
  },
  {
   "cell_type": "markdown",
   "metadata": {},
   "source": [
    "# Africa"
   ]
  },
  {
   "cell_type": "code",
   "execution_count": 35,
   "metadata": {},
   "outputs": [
    {
     "data": {
      "text/html": [
       "<div>\n",
       "<style scoped>\n",
       "    .dataframe tbody tr th:only-of-type {\n",
       "        vertical-align: middle;\n",
       "    }\n",
       "\n",
       "    .dataframe tbody tr th {\n",
       "        vertical-align: top;\n",
       "    }\n",
       "\n",
       "    .dataframe thead th {\n",
       "        text-align: right;\n",
       "    }\n",
       "</style>\n",
       "<table border=\"1\" class=\"dataframe\">\n",
       "  <thead>\n",
       "    <tr style=\"text-align: right;\">\n",
       "      <th></th>\n",
       "      <th>text</th>\n",
       "    </tr>\n",
       "  </thead>\n",
       "  <tbody>\n",
       "    <tr>\n",
       "      <th>0</th>\n",
       "      <td>scrolling through the replika subreddit and this is r/waifuism on steroids. god help us all</td>\n",
       "    </tr>\n",
       "  </tbody>\n",
       "</table>\n",
       "</div>"
      ],
      "text/plain": [
       "                                                                                          text\n",
       "0  scrolling through the replika subreddit and this is r/waifuism on steroids. god help us all"
      ]
     },
     "execution_count": 35,
     "metadata": {},
     "output_type": "execute_result"
    }
   ],
   "source": [
    "pd.set_option('display.max_colwidth', 170)\n",
    "df_Af = pd.read_csv('C:/Users/Asus/PYTHON_C/DLBBT01/data/c_unlabeled/dc_Africa.csv', encoding='utf-8')\n",
    "df_Af.head()"
   ]
  },
  {
   "cell_type": "code",
   "execution_count": 36,
   "metadata": {},
   "outputs": [
    {
     "data": {
      "text/plain": [
       "1"
      ]
     },
     "execution_count": 36,
     "metadata": {},
     "output_type": "execute_result"
    }
   ],
   "source": [
    "len(df_Af)"
   ]
  },
  {
   "cell_type": "code",
   "execution_count": 37,
   "metadata": {},
   "outputs": [
    {
     "data": {
      "text/html": [
       "<div>\n",
       "<style scoped>\n",
       "    .dataframe tbody tr th:only-of-type {\n",
       "        vertical-align: middle;\n",
       "    }\n",
       "\n",
       "    .dataframe tbody tr th {\n",
       "        vertical-align: top;\n",
       "    }\n",
       "\n",
       "    .dataframe thead th {\n",
       "        text-align: right;\n",
       "    }\n",
       "</style>\n",
       "<table border=\"1\" class=\"dataframe\">\n",
       "  <thead>\n",
       "    <tr style=\"text-align: right;\">\n",
       "      <th></th>\n",
       "      <th>text</th>\n",
       "      <th>sentiment</th>\n",
       "    </tr>\n",
       "  </thead>\n",
       "  <tbody>\n",
       "    <tr>\n",
       "      <th>0</th>\n",
       "      <td>scroll through the replika subreddit and thi is r waifuism on steroid god help u all</td>\n",
       "      <td>surprise</td>\n",
       "    </tr>\n",
       "  </tbody>\n",
       "</table>\n",
       "</div>"
      ],
      "text/plain": [
       "                                                                                   text  \\\n",
       "0  scroll through the replika subreddit and thi is r waifuism on steroid god help u all   \n",
       "\n",
       "  sentiment  \n",
       "0  surprise  "
      ]
     },
     "execution_count": 37,
     "metadata": {},
     "output_type": "execute_result"
    }
   ],
   "source": [
    "vectorizer, model = load_models()\n",
    "df_Af['text'] = df_Af['text'].apply(clean_text)\n",
    "text_counts = vectorizer.transform(df_Af['text'])\n",
    "predictions = model.predict(text_counts)\n",
    "df_Af['sentiment'] = predictions\n",
    "df_Af.head()"
   ]
  },
  {
   "cell_type": "code",
   "execution_count": null,
   "metadata": {},
   "outputs": [],
   "source": [
    "#labeling\n",
    "reviews = np.array(df_Af['text'])[:]\n",
    "labels = np.array(df_Af['sentiment'])[:]"
   ]
  },
  {
   "cell_type": "code",
   "execution_count": 43,
   "metadata": {},
   "outputs": [
    {
     "data": {
      "image/png": "[encoded data removed]",
      "text/plain": [
       "<Figure size 300x300 with 1 Axes>"
      ]
     },
     "metadata": {},
     "output_type": "display_data"
    }
   ],
   "source": [
    "# Set the colors for the pie chart\n",
    "colors = ['#CCCFFF','#CCFFFF','#FFCCCC','#ACFFCC','#FFCCFF', '#FFFFCC']\n",
    "\n",
    "sentiment_count = df_Af['sentiment'].value_counts()\n",
    "plot_users=sentiment_count.plot.pie(colors=colors, autopct='%1.1f%%', figsize=(3, 3))\n",
    "plt.rc('axes', unicode_minus=False)\n",
    "plt.title(\"Sentiment Count for Africa\") # Add the title\n",
    "# Save the chart to a file\n",
    "plt.savefig(\"C:/Users/Asus/PYTHON_C/DLBBT01/docs/images/Africa_count_chart.jpeg\",transparent=False, bbox_inches='tight',pad_inches=0.1)"
   ]
  },
  {
   "cell_type": "code",
   "execution_count": 42,
   "metadata": {},
   "outputs": [
    {
     "data": {
      "text/plain": [
       "Counter({'surprise': 1})"
      ]
     },
     "execution_count": 42,
     "metadata": {},
     "output_type": "execute_result"
    }
   ],
   "source": [
    "Counter(labels)"
   ]
  },
  {
   "cell_type": "code",
   "execution_count": null,
   "metadata": {},
   "outputs": [],
   "source": []
  }
 ],
 "metadata": {
  "colab": {
   "collapsed_sections": [],
   "name": "tweet sentiment.ipynb",
   "provenance": []
  },
  "kernelspec": {
   "display_name": "Python 3 (ipykernel)",
   "language": "python",
   "name": "python3"
  },
  "language_info": {
   "codemirror_mode": {
    "name": "ipython",
    "version": 3
   },
   "file_extension": ".py",
   "mimetype": "text/x-python",
   "name": "python",
   "nbconvert_exporter": "python",
   "pygments_lexer": "ipython3",
   "version": "3.9.13"
  },
  "varInspector": {
   "cols": {
    "lenName": 16,
    "lenType": 16,
    "lenVar": 40
   },
   "kernels_config": {
    "python": {
     "delete_cmd_postfix": "",
     "delete_cmd_prefix": "del ",
     "library": "var_list.py",
     "varRefreshCmd": "print(var_dic_list())"
    },
    "r": {
     "delete_cmd_postfix": ") ",
     "delete_cmd_prefix": "rm(",
     "library": "var_list.r",
     "varRefreshCmd": "cat(var_dic_list()) "
    }
   },
   "types_to_exclude": [
    "module",
    "function",
    "builtin_function_or_method",
    "instance",
    "_Feature"
   ],
   "window_display": false
  }
 },
 "nbformat": 4,
 "nbformat_minor": 1
}
